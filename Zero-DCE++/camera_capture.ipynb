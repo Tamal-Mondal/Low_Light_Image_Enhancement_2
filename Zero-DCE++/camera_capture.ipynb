{
  "cells": [
    {
      "cell_type": "code",
      "execution_count": 1,
      "id": "32cc719f",
      "metadata": {
        "id": "32cc719f",
        "outputId": "e4a6bd78-712b-4507-f268-51984f6b401f"
      },
      "outputs": [
        {
          "data": {
            "text/plain": [
              "<All keys matched successfully>"
            ]
          },
          "execution_count": 1,
          "metadata": {},
          "output_type": "execute_result"
        }
      ],
      "source": [
        "import torch\n",
        "import torch.optim\n",
        "import os\n",
        "import model\n",
        "import numpy as np\n",
        "import cv2 as cv\n",
        "\n",
        "scale_factor = 12\n",
        "\n",
        "DCE_net = model.enhance_net_nopool(scale_factor)\n",
        "\n",
        "DCE_net.load_state_dict(torch.load('checkpoints/attention_reduced_rr/Epoch9.pth', map_location=torch.device('cpu')))"
      ]
    },
    {
      "cell_type": "code",
      "execution_count": 2,
      "id": "9f30589d",
      "metadata": {
        "id": "9f30589d",
        "outputId": "e4551009-9a20-4939-aeef-28877c63e7e7",
        "scrolled": true
      },
      "outputs": [],
      "source": [
        "def enhance_image(frame):\n",
        "    os.environ['CUDA_VISIBLE_DEVICES']='0'\n",
        "    scale_factor = 12\n",
        "    data_lowlight = frame\n",
        "\n",
        "    data_lowlight = (np.asarray(data_lowlight)/255.0)\n",
        "\n",
        "    data_lowlight = torch.from_numpy(data_lowlight).float()\n",
        "\n",
        "    h=(data_lowlight.shape[0]//scale_factor)*scale_factor\n",
        "    w=(data_lowlight.shape[1]//scale_factor)*scale_factor\n",
        "    data_lowlight = data_lowlight[0:h,0:w,:]\n",
        "    data_lowlight = data_lowlight.permute(2,0,1)\n",
        "    \n",
        "    data_lowlight = data_lowlight.unsqueeze(0)\n",
        "    enhanced_image,params_maps = DCE_net(data_lowlight)\n",
        "\n",
        "    params_maps = params_maps.detach().numpy()[0]\n",
        "    params_maps = np.einsum('kij->ijk',params_maps)\n",
        "    params_maps = ( params_maps + 1 )* 0.5\n",
        "    enhanced_image = enhanced_image.detach().numpy()[0]\n",
        "    enhanced_image = np.einsum('kij->ijk',enhanced_image)\n",
        "  \n",
        "    return enhanced_image, params_maps\n",
        "\n",
        "cap = cv.VideoCapture(0)\n",
        "ret, frame = cap.read()\n",
        "cap.release()"
      ]
    },
    {
      "cell_type": "code",
      "execution_count": 3,
      "id": "70efb30d",
      "metadata": {
        "id": "70efb30d",
        "outputId": "0fe1e3d6-17bb-4dc3-db38-11946e4f162b",
        "scrolled": false
      },
      "outputs": [],
      "source": [
        "\n",
        "\n",
        "fourcc = cv.VideoWriter_fourcc(*'XVID')\n",
        "out = cv.VideoWriter('output.avi', fourcc, 30.0, (640, 480))\n",
        "\n",
        "cap = cv.VideoCapture(0)\n",
        "display_light_curve_map = False\n",
        "\n",
        "while True:\n",
        "    ret, frame = cap.read()\n",
        "    \n",
        "    frame_orig = frame.copy()\n",
        "    enhanced_frame, light_curve_map = enhance_image(frame)    \n",
        "    frame_orig = frame_orig[:,:-4] / 255\n",
        "    \n",
        "    if display_light_curve_map == False:\n",
        "        v_img = np.concatenate([frame_orig, enhanced_frame], axis=1)\n",
        "    else:\n",
        "        v_img = np.concatenate([frame_orig, light_curve_map, enhanced_frame], axis=1)\n",
        "    cv.imshow(\"enhanced\", v_img)\n",
        "\n",
        "    if cv.waitKey(1) & 0xFF == ord(\"q\"):\n",
        "        break\n",
        "\n",
        "    if cv.waitKey(1) & 0xFF == ord(\"l\"):\n",
        "        display_light_curve_map = not display_light_curve_map \n",
        "\n",
        "cap.release()\n",
        "cv.destroyAllWindows()\n",
        "\n",
        "out.release()"
      ]
    },
    {
      "cell_type": "code",
      "execution_count": null,
      "id": "ae33b536",
      "metadata": {},
      "outputs": [],
      "source": []
    }
  ],
  "metadata": {
    "colab": {
      "name": "camera_capture.ipynb",
      "provenance": []
    },
    "interpreter": {
      "hash": "06497ea6e383233a44bb22c5918eb43243ff9c022f5586f9339a13fec405fc7e"
    },
    "kernelspec": {
      "display_name": "Python 3.7.12 ('fedIRM')",
      "language": "python",
      "name": "python3"
    },
    "language_info": {
      "codemirror_mode": {
        "name": "ipython",
        "version": 3
      },
      "file_extension": ".py",
      "mimetype": "text/x-python",
      "name": "python",
      "nbconvert_exporter": "python",
      "pygments_lexer": "ipython3",
      "version": "3.7.12"
    }
  },
  "nbformat": 4,
  "nbformat_minor": 5
}
